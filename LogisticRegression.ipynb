{
  "nbformat": 4,
  "nbformat_minor": 0,
  "metadata": {
    "colab": {
      "provenance": []
    },
    "kernelspec": {
      "name": "python3",
      "display_name": "Python 3"
    },
    "language_info": {
      "name": "python"
    }
  },
  "cells": [
    {
      "cell_type": "code",
      "source": [
        "import numpy as np\n",
        "import pandas as pd\n",
        "import matplotlib.pyplot as plt"
      ],
      "metadata": {
        "id": "s5hl0nfcgMjf"
      },
      "execution_count": 20,
      "outputs": []
    },
    {
      "cell_type": "code",
      "source": [
        "def scaling(X):\n",
        "  m, n=X.shape\n",
        "  for j in range(n):\n",
        "    X[:,j]=(X[:,j]-np.mean(X[:,j]))/np.std(X[:,j])\n",
        "  return X"
      ],
      "metadata": {
        "id": "drzQFyh3gPqA"
      },
      "execution_count": 21,
      "outputs": []
    },
    {
      "cell_type": "code",
      "source": [
        "def sig(z):\n",
        "  return 1/(1+np.exp(-z))"
      ],
      "metadata": {
        "id": "cJ3g7FJugzYW"
      },
      "execution_count": 22,
      "outputs": []
    },
    {
      "cell_type": "code",
      "source": [
        "def cost(X, Y, w, b, lamda):\n",
        "  m,n=X.shape\n",
        "  j=0\n",
        "\n",
        "  for i in range(m):\n",
        "    z=np.dot(X[i], w)+b\n",
        "    f=sig(z)\n",
        "    j+= Y[i]*(np.log(f))+(1-Y[i])*(np.log(1-f))\n",
        "\n",
        "  j=(j/m)*(-1) + (lamda/(2*m))*np.dot(w, w)\n",
        "  return j\n"
      ],
      "metadata": {
        "id": "sIZZWpUdg4OT"
      },
      "execution_count": 23,
      "outputs": []
    },
    {
      "cell_type": "code",
      "source": [
        "def grad(X, Y, w, b, lamda):\n",
        "  m,n = X.shape\n",
        "  dj_dw = np.zeros((n,))\n",
        "  dj_db = 0.\n",
        "\n",
        "\n",
        "  for i in range(m):\n",
        "    f_wb_i = sig(np.dot(X[i],w) + b)\n",
        "    err_i  = f_wb_i  - Y[i]\n",
        "    for j in range(n):\n",
        "      dj_dw[j] = dj_dw[j] + err_i * X[i,j]\n",
        "    dj_db = dj_db + err_i\n",
        "  dj_dw = dj_dw/m\n",
        "  dj_db = dj_db/m\n",
        "  dj_dw = dj_dw + (lamda/m)*w\n",
        "\n",
        "  return dj_db, dj_dw"
      ],
      "metadata": {
        "id": "8jjAzPQEhvaJ"
      },
      "execution_count": 24,
      "outputs": []
    },
    {
      "cell_type": "code",
      "source": [
        "def decen(X, Y, alpha, ittr, lamda):\n",
        "  m,n=X.shape\n",
        "  w=np.zeros((n,))\n",
        "  b=0\n",
        "  j=[]\n",
        "  for i in range (ittr):\n",
        "    dj_db, dj_dw=grad(X, Y, w, b, lamda)\n",
        "    w=w-alpha*dj_dw\n",
        "    b=b-alpha*dj_db\n",
        "    j.append(cost(X, Y, w, b, lamda))\n",
        "    if (i%10==0):\n",
        "      print(cost(X, Y, w, b, lamda))\n",
        "  plt.plot(range(ittr), j)\n",
        "  plt.xlabel('Number of Iterations')\n",
        "  plt.ylabel('Cost (j)')\n",
        "  plt.title('Cost vs. Iterations')\n",
        "  plt.show()\n",
        "  return w, b"
      ],
      "metadata": {
        "id": "9zYKCfgejIDh"
      },
      "execution_count": 25,
      "outputs": []
    },
    {
      "cell_type": "code",
      "source": [
        "def logisticregression(X, Y, alpha, ittr, X_test, lamda):\n",
        "  #X=scaling(X)\n",
        "  w, b=decen(X, Y, alpha, ittr, lamda)\n",
        "  m, n=X_test.shape\n",
        "  Y_pred=np.zeros(m)\n",
        "  for i in range(m):\n",
        "    z=np.dot(X_test[i], w)+b\n",
        "    f=sig(z)\n",
        "    if f>=0.5:\n",
        "      Y_pred[i]=1\n",
        "    else:\n",
        "      Y_pred[i]=0\n",
        "  return Y_pred"
      ],
      "metadata": {
        "id": "OkTjE8-xjtf8"
      },
      "execution_count": 26,
      "outputs": []
    },
    {
      "cell_type": "code",
      "source": [
        "def f1_score_binary(Y, y_cv):\n",
        "    tp = np.sum((Y == 1) & (y_cv == 1))\n",
        "    fp = np.sum((Y == 0) & (y_cv == 1))\n",
        "    fn = np.sum((Y == 1) & (y_cv == 0))\n",
        "    if (tp+fp == 0):\n",
        "        pre = 0\n",
        "    else:\n",
        "        pre = tp / (tp + fp)\n",
        "\n",
        "    if (tp+fn== 0):\n",
        "        rec= 0\n",
        "    else:\n",
        "        rec = tp / (tp + fn)\n",
        "\n",
        "    if (pre + rec) == 0:\n",
        "        f1 = 0\n",
        "    else:\n",
        "        f1 = 2 * (pre * rec) / (pre + rec)\n",
        "\n",
        "    return f1\n"
      ],
      "metadata": {
        "id": "jxH-K_AGJqHC"
      },
      "execution_count": 11,
      "outputs": []
    },
    {
      "cell_type": "code",
      "source": [
        "data=np.array(pd.read_csv(\"binary_classification_train.csv\"))\n",
        "m,n = data.shape"
      ],
      "metadata": {
        "id": "qg69JTwg2i3f"
      },
      "execution_count": 30,
      "outputs": []
    },
    {
      "cell_type": "code",
      "source": [
        "#m=m//100     (for creditcard dataset)\n",
        "X=np.zeros([m,n-2])\n",
        "Y=np.zeros((m,))\n",
        "\n",
        "\n",
        "for i in range (m):\n",
        "  X[i]=data[i, 1:n-1]\n",
        "  Y[i]=data[i,n-1]\n"
      ],
      "metadata": {
        "id": "-Av6lJlyhO27"
      },
      "execution_count": 31,
      "outputs": []
    },
    {
      "cell_type": "code",
      "source": [
        "print(X)"
      ],
      "metadata": {
        "colab": {
          "base_uri": "https://localhost:8080/"
        },
        "id": "vg4N7aVGjTCN",
        "outputId": "f3460d33-6d05-43b5-e2b7-b49bbaade01e"
      },
      "execution_count": 14,
      "outputs": [
        {
          "output_type": "stream",
          "name": "stdout",
          "text": [
            "[[ -36.96309934  -15.01470294   87.10043472 ...  173.72298705\n",
            "   -17.34916949  -82.55084389]\n",
            " [ -43.71567402   18.8471157    89.54340644 ...   11.59251925\n",
            "  -106.12360525  -92.79642051]\n",
            " [ -30.73755019  -63.72964268  106.08133168 ...  164.83249783\n",
            "   -37.41290151  -85.44115039]\n",
            " ...\n",
            " [ -35.345541    -80.69036019   94.40284293 ...  135.92923004\n",
            "   -48.4083528   -75.40615407]\n",
            " [ -39.59406722  -63.80427731   52.27065677 ...  208.53435295\n",
            "   -38.51438167  -85.69418917]\n",
            " [ -32.70246498 -111.47849646  109.34139873 ...  126.45446899\n",
            "   -38.14487487  -86.07439614]]\n"
          ]
        }
      ]
    },
    {
      "cell_type": "code",
      "source": [
        "print(Y)"
      ],
      "metadata": {
        "colab": {
          "base_uri": "https://localhost:8080/"
        },
        "id": "2d5UApc-jVr5",
        "outputId": "31e2a6aa-36b9-493e-cac3-4c0e31ed6239"
      },
      "execution_count": null,
      "outputs": [
        {
          "output_type": "stream",
          "name": "stdout",
          "text": [
            "[0. 1. 0. ... 0. 0. 1.]\n"
          ]
        }
      ]
    },
    {
      "cell_type": "code",
      "source": [],
      "metadata": {
        "id": "J3bxHfj4GV1M"
      },
      "execution_count": null,
      "outputs": []
    },
    {
      "cell_type": "code",
      "source": [
        "X_train=scaling(X)\n",
        "Y_train=Y"
      ],
      "metadata": {
        "id": "qshtCsDZjOzK"
      },
      "execution_count": 32,
      "outputs": []
    },
    {
      "cell_type": "code",
      "source": [
        "m = X.shape[0]\n",
        "\n",
        "ind = np.random.permutation(m)\n",
        "\n",
        "spind = int(0.8 * m)\n",
        "\n",
        "train_indices = ind[:spind]\n",
        "val_indices = ind[spind:]\n",
        "\n",
        "X_train = X[train_indices]\n",
        "Y_train = Y[train_indices]\n",
        "X_cv = X[val_indices]\n",
        "Y_cv = Y[val_indices]\n"
      ],
      "metadata": {
        "id": "OmwlGMvcGa4x"
      },
      "execution_count": 16,
      "outputs": []
    },
    {
      "cell_type": "code",
      "source": [
        "#k=m//5    (for creditcarddataset)\n",
        "test=np.array(pd.read_csv(\"binary_classification_test.csv\"))\n",
        "k,n=test.shape\n",
        "X_test=np.zeros([k,n-1])\n",
        "\n",
        "\n",
        "for i in range (k):\n",
        "  X_test[i]=test[i, 1:n]\n",
        "X_test=scaling(X_test)\n",
        "print(X_test)\n"
      ],
      "metadata": {
        "colab": {
          "base_uri": "https://localhost:8080/"
        },
        "id": "_sMVRx9thIQL",
        "outputId": "df54a8b0-3f57-4d1b-d0e4-ab835cf7902e"
      },
      "execution_count": 33,
      "outputs": [
        {
          "output_type": "stream",
          "name": "stdout",
          "text": [
            "[[ 2.42897685e+00 -3.02879227e-01 -5.62626580e-01 ...  3.40294279e-01\n",
            "   2.03227402e-03 -1.06886488e+00]\n",
            " [ 8.60118430e-01 -3.59830261e-01  8.22035338e-01 ...  5.95997191e-01\n",
            "   3.45664799e-01 -3.95258403e-01]\n",
            " [-2.95444741e-01 -1.36186819e+00  1.02169874e+00 ...  1.25625714e+00\n",
            "   4.50675395e-01 -5.39505318e-01]\n",
            " ...\n",
            " [ 1.73104969e+00 -1.41930201e+00  1.04439174e+00 ...  4.98360846e-01\n",
            "  -8.75559084e-01 -1.32744878e+00]\n",
            " [ 7.42482905e-01 -2.76218088e-01  6.06858124e-01 ...  9.58977298e-01\n",
            "   5.79489472e-01 -4.85946876e-01]\n",
            " [ 1.58411999e+00 -2.23460030e+00 -1.09641451e-01 ...  8.85823743e-01\n",
            "   1.14966111e+00  5.03278989e-01]]\n"
          ]
        }
      ]
    },
    {
      "cell_type": "code",
      "source": [
        "lamda=0.01\n",
        "ittr=500\n",
        "alpha=0.1"
      ],
      "metadata": {
        "id": "Onlc1IhsjcFo"
      },
      "execution_count": 17,
      "outputs": []
    },
    {
      "cell_type": "code",
      "source": [],
      "metadata": {
        "id": "-fTNuvzkiI2F"
      },
      "execution_count": 18,
      "outputs": []
    },
    {
      "cell_type": "code",
      "source": [
        "k=logisticregression(X_train, Y_train, alpha, ittr, X_test, lamda)\n"
      ],
      "metadata": {
        "colab": {
          "base_uri": "https://localhost:8080/",
          "height": 1000
        },
        "id": "LkYG8HPVmqTW",
        "outputId": "0cf75b49-686a-45c8-b0f8-605e1830aa46"
      },
      "execution_count": 34,
      "outputs": [
        {
          "output_type": "stream",
          "name": "stdout",
          "text": [
            "0.6613458234439323\n",
            "0.478477110508826\n",
            "0.4007734153194577\n",
            "0.3584719052658023\n",
            "0.33215079904610345\n",
            "0.3143678453314899\n",
            "0.3016600373809685\n",
            "0.29220091258465897\n",
            "0.2849382802708111\n",
            "0.2792246664467868\n",
            "0.2746406506538643\n",
            "0.27090311811291334\n",
            "0.2678143931340353\n",
            "0.26523250113926183\n",
            "0.2630530006971633\n",
            "0.26119746392883897\n",
            "0.25960593630624146\n",
            "0.2582318632697452\n",
            "0.2570385932967617\n",
            "0.2559969156959889\n",
            "0.25508329380336847\n",
            "0.2542785754857582\n",
            "0.2535670375119954\n",
            "0.2529356674783553\n",
            "0.25237361739814657\n",
            "0.25187178310542313\n",
            "0.2514224770691367\n",
            "0.2510191713889523\n",
            "0.25065629410153173\n",
            "0.25032906639490327\n",
            "0.2500333715104787\n",
            "0.249765648406676\n",
            "0.24952280493041942\n",
            "0.2493021464752881\n",
            "0.24910131702212351\n",
            "0.2489182501466635\n",
            "0.24875112810065075\n",
            "0.24859834747140178\n",
            "0.24845849023169694\n",
            "0.24833029922970673\n",
            "0.2482126573544721\n",
            "0.2481045697584216\n",
            "0.24800514863378065\n",
            "0.2479136001316288\n",
            "0.24782921308574873\n",
            "0.2477513492624589\n",
            "0.24767943490544356\n",
            "0.24761295338320055\n",
            "0.2475514387785587\n",
            "0.24749447028546673\n"
          ]
        },
        {
          "output_type": "display_data",
          "data": {
            "text/plain": [
              "<Figure size 640x480 with 1 Axes>"
            ],
            "image/png": "[encoded data removed]"
          },
          "metadata": {}
        }
      ]
    },
    {
      "cell_type": "code",
      "source": [
        "np.savetxt('logiesticregressiontest.csv', k, delimiter=',')"
      ],
      "metadata": {
        "id": "GhMWhlq8DTsY"
      },
      "execution_count": 35,
      "outputs": []
    },
    {
      "cell_type": "code",
      "source": [
        "f1=f1_score_binary(Y_cv, k)\n",
        "\n",
        "\n",
        "print(f\"The F1 score after {ittr} itterations is {f1}\")"
      ],
      "metadata": {
        "id": "acttLE6Bu4mL",
        "colab": {
          "base_uri": "https://localhost:8080/"
        },
        "outputId": "f89efe51-aff5-4699-fc3c-032c4e649d48"
      },
      "execution_count": 19,
      "outputs": [
        {
          "output_type": "stream",
          "name": "stdout",
          "text": [
            "The F1 score after 500 itterations is 0.8899005226774573\n"
          ]
        }
      ]
    },
    {
      "cell_type": "code",
      "source": [],
      "metadata": {
        "id": "xw1FUgXJQoZq"
      },
      "execution_count": null,
      "outputs": []
    }
  ]
}