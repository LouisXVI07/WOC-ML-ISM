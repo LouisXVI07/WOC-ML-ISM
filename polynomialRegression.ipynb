{
  "cells": [
    {
      "cell_type": "code",
      "execution_count": 1,
      "metadata": {
        "id": "VG34ygELv9g4"
      },
      "outputs": [],
      "source": [
        "import numpy as np\n",
        "import pandas as pd\n",
        "import matplotlib.pyplot as plt"
      ]
    },
    {
      "cell_type": "code",
      "execution_count": 2,
      "metadata": {
        "id": "JpOTwfLrRNaO"
      },
      "outputs": [],
      "source": [
        "def scaling(X):\n",
        "  m, n=X.shape\n",
        "\n",
        "  for j in range(n):\n",
        "    if (np.std(X[:,j])!=0):\n",
        "      X[:,j]=(X[:,j]-np.mean(X[:,j]))/np.std(X[:,j])\n",
        "  return X"
      ]
    },
    {
      "cell_type": "code",
      "execution_count": 3,
      "metadata": {
        "id": "BXkXAX4kRdzh"
      },
      "outputs": [],
      "source": [
        "def diff(w, b, X, Y, lamda):\n",
        "  m,n = X.shape\n",
        "  dj_dw = np.zeros((n,))\n",
        "  dj_db = 0\n",
        "\n",
        "  for i in range(m):\n",
        "    err = (np.dot(X[i], w) + b) - Y[i]\n",
        "    for j in range(n):\n",
        "      dj_dw[j] = dj_dw[j] + err * X[i, j]\n",
        "    dj_db = dj_db + err\n",
        "  dj_dw = dj_dw / m\n",
        "  dj_db = dj_db / m\n",
        "  dj_dw=dj_dw+(lamda*w)/m\n",
        "\n",
        "  return dj_dw, dj_db"
      ]
    },
    {
      "cell_type": "code",
      "execution_count": 4,
      "metadata": {
        "id": "EKjRAJ_SRx5U"
      },
      "outputs": [],
      "source": [
        "def cost (w, b,X , Y, lamda):\n",
        "  m,n =X.shape\n",
        "  j=0\n",
        "  for i in range(m):\n",
        "    j=j+(np.dot(w,X[i])+b-Y[i])**2\n",
        "  j=j/(2*m) + (lamda*np.dot(w,w))/(2*m)\n",
        "  return j"
      ]
    },
    {
      "cell_type": "code",
      "execution_count": 5,
      "metadata": {
        "id": "ViyzUAwvUd7O"
      },
      "outputs": [],
      "source": [
        "def grad(w, b, X, Y, ittr, alpha, lamda):\n",
        "  j=[]\n",
        "  for i in range (ittr):\n",
        "    df_dw, df_db=diff (w, b, X, Y, lamda )\n",
        "    w=w-(alpha*df_dw)\n",
        "    b=b-(alpha*df_db)\n",
        "    j.append(cost(w,b,X,Y,lamda))\n",
        "    if (i%10==0):\n",
        "      print(f\"The cost function after {i} itterations is {cost(w,b, X, Y, lamda)}\")\n",
        "  plt.plot(range(ittr), j)\n",
        "  plt.xlabel('Number of Iterations')\n",
        "  plt.ylabel('Cost (j)')\n",
        "  plt.title('Cost vs. Iterations')\n",
        "  plt.show()\n",
        "  #print(w)\n",
        "  #print(b)\n",
        "  return w, b"
      ]
    },
    {
      "cell_type": "code",
      "execution_count": 6,
      "metadata": {
        "id": "e_wAu08PZk11"
      },
      "outputs": [],
      "source": [
        "def poly(X, X_test, k):\n",
        "  m, n=X.shape\n",
        "  m1, n1=X_test.shape\n",
        "  X_poly=np.zeros((m,k*n))\n",
        "  X_test_poly=np.ones((m1,k*n1))\n",
        "  count=0\n",
        "  i=0\n",
        "  while (i<n):\n",
        "    j=1\n",
        "    while (j<k+1):\n",
        "      X_poly[:,count]=X[:,i]**j\n",
        "      count+=1\n",
        "      j+=1\n",
        "    i+=1\n",
        "\n",
        "  count=0\n",
        "  i=0\n",
        "  while (i<n1):\n",
        "    j=1\n",
        "    while (j<k+1):\n",
        "      X_test_poly[:,count]=X_test[:,i]**j\n",
        "      count+=1\n",
        "      j+=1\n",
        "    i+=1\n",
        "  return X_poly, X_test_poly"
      ]
    },
    {
      "cell_type": "code",
      "execution_count": 7,
      "metadata": {
        "id": "js1EiuMBVm7S"
      },
      "outputs": [],
      "source": [
        "def regression(X, Y, X_test, k, ittr, alpha, lamda):\n",
        "  X, X_test=poly(X, X_test, k)\n",
        "  X=scaling(X)\n",
        "  m, n= X.shape\n",
        "  a, c= X_test.shape\n",
        "  W=np.zeros((n,))\n",
        "  b=0\n",
        "  #X, Y= scaling (X,Y)\n",
        "  #X_test, temp =scaling(X_test)\n",
        "\n",
        "  w, b= grad(W, b, X, Y, ittr, alpha, lamda)\n",
        "\n",
        "  predict=np.zeros(a)\n",
        "  for i in range (a):\n",
        "    predict[i]=np.dot(w, X_test[i, :])+b\n",
        "  return predict, cost(w,b,X,Y,lamda)"
      ]
    },
    {
      "cell_type": "code",
      "source": [
        "def r2_score(y_true, y_pred):\n",
        "  ss_res = np.sum((y_true - y_pred)**2)\n",
        "  ss_tot = np.sum((y_true - np.mean(y_true))**2)\n",
        "  r2 = 1 - (ss_res / ss_tot)\n",
        "  return r2"
      ],
      "metadata": {
        "id": "2WeMAAmaUPpx"
      },
      "execution_count": null,
      "outputs": []
    },
    {
      "cell_type": "code",
      "execution_count": null,
      "metadata": {
        "id": "wQwWfa6WPb_n"
      },
      "outputs": [],
      "source": []
    },
    {
      "cell_type": "code",
      "execution_count": 8,
      "metadata": {
        "id": "dyI29Chf1Ot5"
      },
      "outputs": [],
      "source": [
        "train=np.array(pd.read_csv(\"polynomial_regression_train.csv\"))\n",
        "test=np.array(pd.read_csv(\"polynomial_regression_test.csv\"))"
      ]
    },
    {
      "cell_type": "code",
      "execution_count": 9,
      "metadata": {
        "id": "Iynw1-llPaD7"
      },
      "outputs": [],
      "source": [
        "a, b= train.shape\n",
        "a1, b1= test.shape"
      ]
    },
    {
      "cell_type": "code",
      "execution_count": 10,
      "metadata": {
        "id": "W6WKix1OQtOS"
      },
      "outputs": [],
      "source": [
        "X=np.zeros([a,b-2])\n",
        "Y=np.zeros((a,))\n",
        "\n",
        "\n",
        "for i in range (a):\n",
        "  X[i]=train[i, 1:b-1]\n",
        "  Y[i]=train[i,b-1]\n",
        "#X_train=X_train.transpose()\n",
        "#X_train, Y_train= scaling(X_train, Y_train)\n",
        "#temp=X_train\n",
        "\n",
        "X= scaling(X)\n",
        "X_train=X\n",
        "Y_train=Y"
      ]
    },
    {
      "cell_type": "code",
      "source": [
        "m = X.shape[0]\n",
        "ind = np.random.permutation(m)\n",
        "spind = int(0.8 * m)\n",
        "\n",
        "train_indices = ind[:spind]\n",
        "val_indices = ind[spind:]\n",
        "\n",
        "\n",
        "X_train = X[train_indices]\n",
        "Y_train = Y[train_indices]\n",
        "X_cv = X[val_indices]\n",
        "Y_cv = Y[val_indices]"
      ],
      "metadata": {
        "id": "GvcIosFwTzuR"
      },
      "execution_count": null,
      "outputs": []
    },
    {
      "cell_type": "code",
      "execution_count": 11,
      "metadata": {
        "id": "B4LpW_SGQ3w8"
      },
      "outputs": [],
      "source": [
        "X_test=np.zeros([a1,b1-1])\n",
        "for i in range (a1):\n",
        "  X_test[i]=test[i, 1:b1]\n",
        "X_test= scaling(X_test)"
      ]
    },
    {
      "cell_type": "code",
      "execution_count": null,
      "metadata": {
        "colab": {
          "base_uri": "https://localhost:8080/"
        },
        "id": "UnlhH6xxbzEW",
        "outputId": "e1a89dc9-574f-4273-c0cd-ec08b023e6f8"
      },
      "outputs": [
        {
          "name": "stdout",
          "output_type": "stream",
          "text": [
            "[[-0.2714613   0.8506241  -1.08085056  0.36352986 -0.30120231]\n",
            " [-0.33649379 -1.02157784  0.53130124  0.04676399  0.60073514]\n",
            " [-1.08580695 -0.11957387 -0.0035855   0.42165651 -0.20624923]\n",
            " ...\n",
            " [-1.46397092  1.52479322  0.88221825  0.29940981  1.14443348]\n",
            " [ 1.12358524  0.27427466 -0.05469282  0.60830112 -0.53226703]\n",
            " [-0.87768718 -1.43548731 -0.70636114  0.88144235 -1.0689373 ]]\n"
          ]
        }
      ],
      "source": [
        "#X_train, X_test=poly(X_train, X_test, 3)\n",
        "print(X_train)"
      ]
    },
    {
      "cell_type": "code",
      "execution_count": 12,
      "metadata": {
        "id": "Ra8Qkdntb-Zg"
      },
      "outputs": [],
      "source": [
        "degree=3\n",
        "ittr=100\n",
        "alpha=0.1\n",
        "lamda=1"
      ]
    },
    {
      "cell_type": "code",
      "execution_count": 13,
      "metadata": {
        "colab": {
          "base_uri": "https://localhost:8080/",
          "height": 680
        },
        "id": "VH4vXdaIRE1Y",
        "outputId": "868a56dd-a62b-4145-9a67-798a6390b8c9"
      },
      "outputs": [
        {
          "output_type": "stream",
          "name": "stdout",
          "text": [
            "The cost function after 0 itterations is 5.4189915301613124e-17\n",
            "The cost function after 10 itterations is 4.456423957475171e-17\n",
            "The cost function after 20 itterations is 4.35099575036392e-17\n",
            "The cost function after 30 itterations is 4.337880124236057e-17\n",
            "The cost function after 40 itterations is 4.336073316754788e-17\n",
            "The cost function after 50 itterations is 4.335698536538293e-17\n",
            "The cost function after 60 itterations is 4.3355254468243403e-17\n",
            "The cost function after 70 itterations is 4.3353972175724536e-17\n",
            "The cost function after 80 itterations is 4.3352912223015514e-17\n",
            "The cost function after 90 itterations is 4.335202042025011e-17\n"
          ]
        },
        {
          "output_type": "display_data",
          "data": {
            "text/plain": [
              "<Figure size 640x480 with 1 Axes>"
            ],
            "image/png": "[encoded data removed]"
          },
          "metadata": {}
        },
        {
          "output_type": "stream",
          "name": "stdout",
          "text": [
            "[ 7.39719118e-09 -5.80131960e-09 -5.21295875e-09 ...  4.50681265e-09\n",
            " -3.36538956e-09 -4.69755146e-09]\n"
          ]
        }
      ],
      "source": [
        "predictions, cos=regression(X_train, Y_train, X_test, degree, ittr, alpha, lamda)\n",
        "print(predictions)"
      ]
    },
    {
      "cell_type": "code",
      "source": [
        "np.savetxt('polynimialtest.csv', predictions, delimiter=',')"
      ],
      "metadata": {
        "id": "mbQaTYsxGm5I"
      },
      "execution_count": 14,
      "outputs": []
    },
    {
      "cell_type": "code",
      "execution_count": null,
      "metadata": {
        "id": "cVRZsMP4dMKY",
        "colab": {
          "base_uri": "https://localhost:8080/"
        },
        "outputId": "ceca6a9e-a588-4aa6-b390-af98da8d12c4"
      },
      "outputs": [
        {
          "output_type": "stream",
          "name": "stdout",
          "text": [
            "The cost after 100 itterations is: 4.35555272395432e-17\n",
            "The Mean Squared Error of the Algo is: 8.680604752719816e-17\n",
            "The R2 score of the Algo is: 0.2217964847055306\n"
          ]
        }
      ],
      "source": [
        "r2=r2_score(Y_cv, predictions)\n",
        "mse = np.mean((Y_cv - predictions) ** 2)\n",
        "print(f\"The cost after {ittr} itterations is: {cos}\")\n",
        "print(f\"The Mean Squared Error of the Algo is: {mse}\")\n",
        "print(f\"The R2 score of the Algo is: {r2}\")"
      ]
    },
    {
      "cell_type": "code",
      "source": [],
      "metadata": {
        "id": "Q3lqngK4Wu1m"
      },
      "execution_count": null,
      "outputs": []
    }
  ],
  "metadata": {
    "colab": {
      "provenance": []
    },
    "kernelspec": {
      "display_name": "Python 3",
      "name": "python3"
    },
    "language_info": {
      "name": "python"
    }
  },
  "nbformat": 4,
  "nbformat_minor": 0
}