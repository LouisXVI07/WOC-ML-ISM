{
  "nbformat": 4,
  "nbformat_minor": 0,
  "metadata": {
    "colab": {
      "provenance": []
    },
    "kernelspec": {
      "name": "python3",
      "display_name": "Python 3"
    },
    "language_info": {
      "name": "python"
    }
  },
  "cells": [
    {
      "cell_type": "code",
      "execution_count": 45,
      "metadata": {
        "id": "cegQXTzyQe5O"
      },
      "outputs": [],
      "source": [
        "import numpy as np\n",
        "import pandas as pd\n",
        "import matplotlib.pyplot as plt\n"
      ]
    },
    {
      "cell_type": "code",
      "source": [
        "def relu(Z):\n",
        "    return np.maximum(0, Z)\n",
        "\n",
        "def relu_derivative(Z):\n",
        "    return Z > 0\n",
        "\n",
        "def softmax(Z):\n",
        "    expZ = np.exp(Z - np.max(Z, axis=0, keepdims=True))\n",
        "    return expZ / np.sum(expZ, axis=0, keepdims=True)\n",
        "\n",
        "def sigmoid(Z):\n",
        "    return 1 / (1 + np.exp(-Z))\n",
        "\n",
        "def sigmoid_derivative(Z):\n",
        "    return sigmoid(Z) * (1 - sigmoid(Z))"
      ],
      "metadata": {
        "id": "45bl8ThBTDwk"
      },
      "execution_count": 46,
      "outputs": []
    },
    {
      "cell_type": "code",
      "source": [
        "def compute_cost_binary(AL, Y):\n",
        "    m = Y.shape[1]\n",
        "    cost = -np.sum(Y * np.log(AL) + (1 - Y) * np.log(1 - AL)) / m\n",
        "    return np.squeeze(cost)\n",
        "\n",
        "def compute_cost_multiclass(AL, Y):\n",
        "    m = Y.shape[1]\n",
        "    cost = -np.sum(Y * np.log(AL)) / m\n",
        "    return np.squeeze(cost)"
      ],
      "metadata": {
        "id": "baD_DMfMLMsM"
      },
      "execution_count": 47,
      "outputs": []
    },
    {
      "cell_type": "code",
      "source": [
        "def forward_propagation(X, parameters, layers, activation='sigmoid'):\n",
        "    caches = []\n",
        "    A = X\n",
        "    for l in range(1, len(layers)):\n",
        "        Z = np.dot(parameters['W' + str(l)], A) + parameters['b' + str(l)]\n",
        "        if l == len(layers) - 1:\n",
        "            A = softmax(Z) if activation == 'softmax' else sigmoid(Z)\n",
        "        else:\n",
        "            A = relu(Z)\n",
        "        caches.append((A, Z))\n",
        "    return A, caches"
      ],
      "metadata": {
        "id": "f37AzW7eONIE"
      },
      "execution_count": 48,
      "outputs": []
    },
    {
      "cell_type": "code",
      "source": [
        "def backward_propagation(X, Y, parameters, caches, layers, activation='sigmoid'):\n",
        "    grads = {}\n",
        "    m = X.shape[1]\n",
        "    L = len(layers) - 1\n",
        "    AL, _ = caches[-1]\n",
        "    dA = AL - Y\n",
        "\n",
        "    for l in reversed(range(1, L + 1)):\n",
        "        A_prev = X if l == 1 else caches[l - 2][0]\n",
        "        Z = caches[l - 1][1]\n",
        "        dZ = dA * (AL * (1 - AL) if l == L and activation == 'softmax' else relu_derivative(Z))\n",
        "        grads['dW' + str(l)] = np.dot(dZ, A_prev.T) / m\n",
        "        grads['db' + str(l)] = np.sum(dZ, axis=1, keepdims=True) / m\n",
        "        dA = np.dot(parameters['W' + str(l)].T, dZ)\n",
        "\n",
        "    return grads"
      ],
      "metadata": {
        "id": "1HswYqcyMmG_"
      },
      "execution_count": 49,
      "outputs": []
    },
    {
      "cell_type": "code",
      "source": [
        "def initialize_parameters(layers):\n",
        "    parameters = {}\n",
        "    for l in range(1, len(layers)):\n",
        "        parameters['W' + str(l)] = np.random.randn(layers[l], layers[l - 1]) * 0.01\n",
        "        parameters['b' + str(l)] = np.zeros((layers[l], 1))\n",
        "    return parameters\n"
      ],
      "metadata": {
        "id": "yhRpG-_uLybQ"
      },
      "execution_count": 58,
      "outputs": []
    },
    {
      "cell_type": "code",
      "source": [
        "def update_parameters(parameters, grads, learning_rate):\n",
        "    for l in range(1, len(parameters) // 2 + 1):\n",
        "        parameters['W' + str(l)] -= learning_rate * grads['dW' + str(l)]\n",
        "        parameters['b' + str(l)] -= learning_rate * grads['db' + str(l)]\n",
        "    return parameters"
      ],
      "metadata": {
        "id": "6SSauHngfXWS"
      },
      "execution_count": 51,
      "outputs": []
    },
    {
      "cell_type": "code",
      "source": [
        "def neural_network(X, Y, layers, iterations, learning_rate, activation='sigmoid', cost_print_interval=10):\n",
        "    np.random.seed(1)\n",
        "    parameters = initialize_parameters(layers)\n",
        "    j=[]\n",
        "    for i in range(iterations):\n",
        "        AL, caches = forward_propagation(X, parameters, layers, activation)\n",
        "\n",
        "        cost = compute_cost_binary(AL, Y) if activation == 'sigmoid' else compute_cost_multiclass(AL, Y)\n",
        "\n",
        "        grads = backward_propagation(X, Y, parameters, caches, layers, activation)\n",
        "\n",
        "        parameters = update_parameters(parameters, grads, learning_rate)\n",
        "        j.append(cost)\n",
        "        if i % cost_print_interval == 0:\n",
        "            print(f\"Iteration {i} - Cost: {cost}\")\n",
        "    plt.plot(range(ittr), j)\n",
        "    plt.xlabel('Number of Iterations')\n",
        "    plt.ylabel('Cost (j)')\n",
        "    plt.title('Cost vs. Iterations')\n",
        "    plt.show()\n",
        "    return parameters"
      ],
      "metadata": {
        "id": "EJXKkcfOfZ_5"
      },
      "execution_count": 69,
      "outputs": []
    },
    {
      "cell_type": "code",
      "source": [
        "def one_hot_encode(Y):\n",
        "    num_classes = np.max(Y) + 1\n",
        "    return np.eye(num_classes)[Y.reshape(-1)].T"
      ],
      "metadata": {
        "id": "cu0b8wHEfc6h"
      },
      "execution_count": 53,
      "outputs": []
    },
    {
      "cell_type": "code",
      "source": [
        "def predict(X, parameters, layers, activation='sigmoid'):\n",
        "\n",
        "    AL, _ = forward_propagation(X, parameters, layers, activation)\n",
        "\n",
        "    if activation == 'sigmoid':\n",
        "        predictions = (AL > 0.5).astype(int).flatten()\n",
        "    elif activation == 'softmax':\n",
        "        predictions = np.argmax(AL, axis=0)\n",
        "    else:\n",
        "        raise ValueError(\"Unsupported activation function. Use 'sigmoid' or 'softmax'.\")\n",
        "\n",
        "    return predictions\n"
      ],
      "metadata": {
        "id": "ywCmtAN8ffAz"
      },
      "execution_count": 54,
      "outputs": []
    },
    {
      "cell_type": "code",
      "source": [
        "data = np.array(pd.read_csv(\"nn_train.csv\"))\n",
        "m, n = data.shape\n",
        "X_train = data[:, 1:n-2].T\n",
        "Y_trainB = data[:, n-2].reshape(1, -1)\n",
        "Y_trainM = one_hot_encode(data[:, n-1])"
      ],
      "metadata": {
        "id": "5rFtkLGnfioY"
      },
      "execution_count": 55,
      "outputs": []
    },
    {
      "cell_type": "code",
      "source": [
        "def scaling(X):\n",
        "    return (X - np.mean(X, axis=1, keepdims=True)) / np.std(X, axis=1, keepdims=True)\n",
        "X_train = scaling(X_train)"
      ],
      "metadata": {
        "id": "tQeyYFfjfjtS"
      },
      "execution_count": 56,
      "outputs": []
    },
    {
      "cell_type": "code",
      "source": [
        "layers_binary = [X_train.shape[0], 5, 6, 4, 1]\n",
        "parameters_binary = neural_network(X_train, Y_trainB, layers_binary, iterations=100, learning_rate=0.0001, activation='sigmoid')\n",
        "\n",
        "predictions_binary = predict(X_train, parameters_binary, layers_binary, activation='sigmoid')\n",
        "\n",
        "\n",
        "\n"
      ],
      "metadata": {
        "colab": {
          "base_uri": "https://localhost:8080/",
          "height": 678
        },
        "id": "3uMMe6UOfoxI",
        "outputId": "9e2aa19d-b40e-4cea-f9b0-99fb4fd0ca44"
      },
      "execution_count": 70,
      "outputs": [
        {
          "output_type": "stream",
          "name": "stdout",
          "text": [
            "Iteration 0 - Cost: 0.6931471803415544\n",
            "Iteration 10 - Cost: 0.6931471803415115\n",
            "Iteration 20 - Cost: 0.6931471803415113\n",
            "Iteration 30 - Cost: 0.6931471803415112\n",
            "Iteration 40 - Cost: 0.6931471803415115\n",
            "Iteration 50 - Cost: 0.6931471803415113\n",
            "Iteration 60 - Cost: 0.6931471803415113\n",
            "Iteration 70 - Cost: 0.6931471803415113\n",
            "Iteration 80 - Cost: 0.6931471803415113\n",
            "Iteration 90 - Cost: 0.6931471803415112\n"
          ]
        },
        {
          "output_type": "display_data",
          "data": {
            "text/plain": [
              "<Figure size 640x480 with 1 Axes>"
            ],
            "image/png": "[encoded data removed]"
          },
          "metadata": {}
        },
        {
          "output_type": "stream",
          "name": "stdout",
          "text": [
            "Binary Classification Accuracy: 50.00%\n"
          ]
        }
      ]
    },
    {
      "cell_type": "code",
      "source": [
        "num_classes = Y_trainM.shape[0]\n",
        "layers_multi = [X_train.shape[0], 5, 4, num_classes]\n",
        "parameters_multi = neural_network(X_train, Y_trainM, layers_multi, iterations=100, learning_rate=0.1, activation='softmax')\n",
        "\n",
        "predictions_multi = predict(X_train, parameters_multi, layers_multi, activation='softmax')\n"
      ],
      "metadata": {
        "colab": {
          "base_uri": "https://localhost:8080/",
          "height": 663
        },
        "id": "aSh1hgTHgs58",
        "outputId": "d26f00e9-140c-403e-d6ef-72bac6b93510"
      },
      "execution_count": 71,
      "outputs": [
        {
          "output_type": "stream",
          "name": "stdout",
          "text": [
            "Iteration 0 - Cost: 2.3978957303870216\n",
            "Iteration 10 - Cost: 2.3971513186763356\n",
            "Iteration 20 - Cost: 2.3964222833676097\n",
            "Iteration 30 - Cost: 2.3957081193363754\n",
            "Iteration 40 - Cost: 2.3950083451677795\n",
            "Iteration 50 - Cost: 2.3943224999137707\n",
            "Iteration 60 - Cost: 2.393650143806935\n",
            "Iteration 70 - Cost: 2.392990855432432\n",
            "Iteration 80 - Cost: 2.3923442313831775\n",
            "Iteration 90 - Cost: 2.3917098839723256\n"
          ]
        },
        {
          "output_type": "display_data",
          "data": {
            "text/plain": [
              "<Figure size 640x480 with 1 Axes>"
            ],
            "image/png": "[encoded data removed]"
          },
          "metadata": {}
        },
        {
          "output_type": "stream",
          "name": "stdout",
          "text": [
            "Multi-Class Classification Accuracy: 10.09%\n"
          ]
        }
      ]
    },
    {
      "cell_type": "code",
      "source": [],
      "metadata": {
        "id": "Niv52RhFpHus"
      },
      "execution_count": 71,
      "outputs": []
    },
    {
      "cell_type": "code",
      "source": [],
      "metadata": {
        "id": "Y1puGbDhpUWl"
      },
      "execution_count": null,
      "outputs": []
    }
  ]
}