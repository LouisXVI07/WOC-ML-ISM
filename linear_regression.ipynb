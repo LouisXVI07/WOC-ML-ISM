{
  "nbformat": 4,
  "nbformat_minor": 0,
  "metadata": {
    "colab": {
      "provenance": []
    },
    "kernelspec": {
      "name": "python3",
      "display_name": "Python 3"
    },
    "language_info": {
      "name": "python"
    }
  },
  "cells": [
    {
      "cell_type": "code",
      "execution_count": 1,
      "metadata": {
        "id": "cTsxAUgNkqAT"
      },
      "outputs": [],
      "source": [
        "import numpy as np\n",
        "import pandas as pd\n",
        "import matplotlib.pyplot as plt"
      ]
    },
    {
      "cell_type": "code",
      "source": [
        "def scaling(X):\n",
        "  #here in this algo we will use Z-score normalization\n",
        "  m, n=X.shape\n",
        "  for j in range(n):\n",
        "    X[:,j]=(X[:,j]-np.mean(X[:,j]))/np.std(X[:,j])\n",
        "  return X\n",
        "\n",
        "\n",
        "\n",
        "\n",
        "\n"
      ],
      "metadata": {
        "id": "AhoAkwvpkzp5"
      },
      "execution_count": 2,
      "outputs": []
    },
    {
      "cell_type": "code",
      "source": [
        "def diff(w, b, X, Y, lamda):\n",
        "  m,n = X.shape\n",
        "  dj_dw = np.zeros((n,))\n",
        "  dj_db = 0\n",
        "\n",
        "  for i in range(m):\n",
        "    err = (np.dot(X[i], w) + b) - Y[i]\n",
        "    for j in range(n):\n",
        "      dj_dw[j] = dj_dw[j] + err * X[i, j] + lamda*w[j]\n",
        "    dj_db = dj_db + err\n",
        "  dj_dw = dj_dw / m\n",
        "  dj_db = dj_db / m\n",
        "\n",
        "\n",
        "  return dj_dw, dj_db"
      ],
      "metadata": {
        "id": "dg3T9E_9p3X1"
      },
      "execution_count": 3,
      "outputs": []
    },
    {
      "cell_type": "code",
      "source": [
        "def cost (w, b,X , Y, lamda):\n",
        "  m,n =X.shape\n",
        "  j=0\n",
        "  for i in range(m):\n",
        "    j=j+(np.dot(w,X[i])+b-Y[i])**2\n",
        "  j=j/(2*m) + (lamda*np.dot(w,w))/(2*m)\n",
        "  return j"
      ],
      "metadata": {
        "id": "aJHPBnlQvIWo"
      },
      "execution_count": 4,
      "outputs": []
    },
    {
      "cell_type": "code",
      "source": [
        "def grad(w, b, X, Y,alpha, ittr, lamda):\n",
        "  #alpha=0.1\n",
        "  j=[]\n",
        "  for i in range (ittr):\n",
        "    df_dw, df_db=diff (w, b, X, Y, lamda )\n",
        "    w=w-(alpha*df_dw)\n",
        "    b=b-(alpha*df_db)\n",
        "    j.append(cost(w,b, X, Y, lamda))\n",
        "    if (i%100==0):\n",
        "      print(f\"The cost function after {i} itterations is {cost(w,b, X, Y, lamda)}\")\n",
        "  #print(w)\n",
        "  #print(b)\n",
        "  plt.plot(range(ittr), j)\n",
        "  plt.xlabel('Number of Iterations')\n",
        "  plt.ylabel('Cost (j)')\n",
        "  plt.title('Cost vs. Iterations')\n",
        "  plt.show()\n",
        "\n",
        "  return w, b\n"
      ],
      "metadata": {
        "id": "QG07Y4KIv9rp"
      },
      "execution_count": 5,
      "outputs": []
    },
    {
      "cell_type": "code",
      "source": [
        "def regression(X, Y, X_test,alpha, ittr, lamda):\n",
        "  m, n= X.shape\n",
        "  a, c= X_test.shape\n",
        "  W=np.zeros(n)\n",
        "  b=0\n",
        "\n",
        "  w, b= grad(W, b, X, Y, alpha, ittr, lamda)\n",
        "\n",
        "  predict=np.zeros(a)\n",
        "  for i in range (a):\n",
        "    predict[i]=np.dot(w, X_test[i, :])+b\n",
        "  print (f\"The predictions of each test case are {predict}\")\n",
        "\n",
        "  #print(f\"W: {w} B : {b}\")\n",
        "  return predict, cost (w, b,X , Y, lamda)\n",
        "\n"
      ],
      "metadata": {
        "id": "tLSWl44Zn73y"
      },
      "execution_count": 6,
      "outputs": []
    },
    {
      "cell_type": "code",
      "source": [
        "def r2_score(y_true, y_pred):\n",
        "  ss_res = np.sum((y_true - y_pred)**2)\n",
        "  ss_tot = np.sum((y_true - np.mean(y_true))**2)\n",
        "  r2 = 1 - (ss_res / ss_tot)\n",
        "  return r2"
      ],
      "metadata": {
        "id": "-pWsQLwlCqlk"
      },
      "execution_count": 7,
      "outputs": []
    },
    {
      "cell_type": "markdown",
      "source": [],
      "metadata": {
        "id": "FDfpWVe4CN6S"
      }
    },
    {
      "cell_type": "code",
      "source": [
        "train= np.array(pd.read_csv(\"linear_regression_train.csv\"))\n",
        "test=np.array(pd.read_csv(\"linear_regression_test.csv\"))"
      ],
      "metadata": {
        "id": "qlpsRzsvB6dD"
      },
      "execution_count": 7,
      "outputs": []
    },
    {
      "cell_type": "code",
      "source": [
        "print(train.shape)\n",
        "print(test.shape)"
      ],
      "metadata": {
        "id": "ZAgK6ui_JC5D",
        "colab": {
          "base_uri": "https://localhost:8080/"
        },
        "outputId": "c8de72f4-00d6-49e3-bf7b-306bf7d10575"
      },
      "execution_count": 10,
      "outputs": [
        {
          "output_type": "stream",
          "name": "stdout",
          "text": [
            "(48000, 27)\n",
            "(12000, 26)\n"
          ]
        }
      ]
    },
    {
      "cell_type": "code",
      "source": [
        "a, b= train.shape\n",
        "c,d= test.shape"
      ],
      "metadata": {
        "id": "_iHsVApZ2MVm"
      },
      "execution_count": 8,
      "outputs": []
    },
    {
      "cell_type": "code",
      "source": [
        "X=np.zeros([a,b-2])\n",
        "Y=np.zeros(a)\n",
        "\n",
        "for i in range (a):\n",
        "  X[i]=train[i, 1:b-1]\n",
        "  Y[i]=train[i,b-1]\n",
        "#X_train=X_train.transpose()\n",
        "\n",
        "temp=X\n",
        "\n",
        "X= scaling(X)\n",
        "print(X)\n",
        "X_train=X\n",
        "Y_train=Y"
      ],
      "metadata": {
        "id": "Y5zK_9s-LqyA",
        "colab": {
          "base_uri": "https://localhost:8080/"
        },
        "outputId": "1b0d46d8-9337-408f-a663-3342cd843701"
      },
      "execution_count": 10,
      "outputs": [
        {
          "output_type": "stream",
          "name": "stdout",
          "text": [
            "[[-1.69864257  0.25314326  1.13869653 ... -0.22286562 -0.47196937\n",
            "   2.27252813]\n",
            " [ 0.67201663 -1.49897152 -2.0985691  ...  0.15226832  0.88583556\n",
            "  -0.21087511]\n",
            " [ 0.17740114  0.78499939  0.00481211 ... -0.53771862 -0.41626433\n",
            "   0.40224792]\n",
            " ...\n",
            " [ 0.81704195  1.17747749  0.99823079 ... -0.82105666 -1.01309748\n",
            "   2.17589655]\n",
            " [-1.07691097 -0.1244421   0.41474601 ...  2.77345726  0.61758348\n",
            "  -0.31658482]\n",
            " [-0.21901717 -0.87546677 -2.26766168 ...  0.228205   -2.83281419\n",
            "   0.46684529]]\n"
          ]
        }
      ]
    },
    {
      "cell_type": "code",
      "source": [
        "#Cell spliting Data into 20% cross validation and 80% train dataset.\n",
        "m = X.shape[0]\n",
        "ind = np.random.permutation(m)\n",
        "spind = int(0.8 * m)\n",
        "\n",
        "train_indices = ind[:spind]\n",
        "val_indices = ind[spind:]\n",
        "\n",
        "\n",
        "X_train = X[train_indices]\n",
        "Y_train = Y[train_indices]\n",
        "X_cv = X[val_indices]\n",
        "Y_cv = Y[val_indices]\n",
        "\n",
        "\n"
      ],
      "metadata": {
        "id": "O2inn6RIC2XZ"
      },
      "execution_count": 13,
      "outputs": []
    },
    {
      "cell_type": "code",
      "source": [
        "print(X_train)"
      ],
      "metadata": {
        "colab": {
          "base_uri": "https://localhost:8080/"
        },
        "id": "Zv-CeahdOASr",
        "outputId": "a8da0364-b024-4fb0-fe35-72a964f05f7f"
      },
      "execution_count": 11,
      "outputs": [
        {
          "output_type": "stream",
          "name": "stdout",
          "text": [
            "[[-1.69864257  0.25314326  1.13869653 ... -0.22286562 -0.47196937\n",
            "   2.27252813]\n",
            " [ 0.67201663 -1.49897152 -2.0985691  ...  0.15226832  0.88583556\n",
            "  -0.21087511]\n",
            " [ 0.17740114  0.78499939  0.00481211 ... -0.53771862 -0.41626433\n",
            "   0.40224792]\n",
            " ...\n",
            " [ 0.81704195  1.17747749  0.99823079 ... -0.82105666 -1.01309748\n",
            "   2.17589655]\n",
            " [-1.07691097 -0.1244421   0.41474601 ...  2.77345726  0.61758348\n",
            "  -0.31658482]\n",
            " [-0.21901717 -0.87546677 -2.26766168 ...  0.228205   -2.83281419\n",
            "   0.46684529]]\n"
          ]
        }
      ]
    },
    {
      "cell_type": "code",
      "source": [
        "print(Y_train)"
      ],
      "metadata": {
        "colab": {
          "base_uri": "https://localhost:8080/"
        },
        "id": "ZPXQzJjhwY4Y",
        "outputId": "9c4b8140-afc5-42d4-8be2-243f06b2e8fb"
      },
      "execution_count": 12,
      "outputs": [
        {
          "output_type": "stream",
          "name": "stdout",
          "text": [
            "[ 5235.69092808 -1221.44214589 -1102.75886179 ... -1703.21936555\n",
            "  4551.70684165 -2800.86325604]\n"
          ]
        }
      ]
    },
    {
      "cell_type": "code",
      "source": [
        "X_test=np.zeros([c,d-1])\n",
        "\n",
        "\n",
        "for i in range (c):\n",
        "  X_test[i]=test[i, 1:d]\n",
        "X_test=scaling(X_test)\n",
        "#X_test=X_test.transpose()\n",
        "#X_test, temp= scaling(X_test)"
      ],
      "metadata": {
        "id": "bZ9xDXppQk8h"
      },
      "execution_count": 16,
      "outputs": []
    },
    {
      "cell_type": "code",
      "source": [
        "print(X_test)"
      ],
      "metadata": {
        "colab": {
          "base_uri": "https://localhost:8080/"
        },
        "id": "OtnErMluRqRO",
        "outputId": "746803ee-dd16-41dc-fd60-e66aa27e2859"
      },
      "execution_count": 17,
      "outputs": [
        {
          "output_type": "stream",
          "name": "stdout",
          "text": [
            "[[-1.97837849e+00  1.18957879e+00  1.21509022e+00 ...  1.14979205e+00\n",
            "   2.96607097e-01 -1.54140275e+00]\n",
            " [ 8.00824125e-01  1.13374290e+00 -1.02510343e+00 ... -1.91574770e-01\n",
            "   7.39848321e-01  1.38577932e+00]\n",
            " [-1.97421590e-02 -2.56490950e+00 -1.18184907e+00 ... -1.35180564e+00\n",
            "  -1.81478789e-01  1.29622543e+00]\n",
            " ...\n",
            " [-1.21319079e+00 -1.44876427e+00  3.38105347e-02 ... -2.39698554e+00\n",
            "   9.99369401e-01 -5.77312948e-01]\n",
            " [ 1.48863833e+00 -3.04328701e+00  1.41428403e+00 ... -1.26575430e-01\n",
            "  -8.71643590e-01 -2.13875416e-01]\n",
            " [-1.50945651e-01  1.31117712e+00  5.15804967e-02 ...  2.51254572e-01\n",
            "  -2.68407364e-03 -5.27269813e-01]]\n"
          ]
        }
      ]
    },
    {
      "cell_type": "code",
      "source": [
        "lamda=0.01\n",
        "ittr=500\n",
        "alpha=0.1"
      ],
      "metadata": {
        "id": "lSpElBz1-8H4"
      },
      "execution_count": 19,
      "outputs": []
    },
    {
      "cell_type": "code",
      "source": [
        "preft, cos=regression(X_train, Y_train, X_test, alpha, ittr, lamda)\n",
        "print(f\"The cost after {ittr} itterations is: {cos}\")"
      ],
      "metadata": {
        "colab": {
          "base_uri": "https://localhost:8080/",
          "height": 631
        },
        "id": "wbxgG31_SP_W",
        "outputId": "645a7a6f-f0f0-444a-e377-7f8f4799a385"
      },
      "execution_count": 20,
      "outputs": [
        {
          "output_type": "stream",
          "name": "stdout",
          "text": [
            "The cost function after 0 itterations is 2527827.907256629\n",
            "The cost function after 100 itterations is 58254.961558105206\n",
            "The cost function after 200 itterations is 58253.8861552501\n",
            "The cost function after 300 itterations is 58253.8861254973\n",
            "The cost function after 400 itterations is 58253.886125496676\n"
          ]
        },
        {
          "output_type": "display_data",
          "data": {
            "text/plain": [
              "<Figure size 640x480 with 1 Axes>"
            ],
            "image/png": "[encoded data removed]"
          },
          "metadata": {}
        },
        {
          "output_type": "stream",
          "name": "stdout",
          "text": [
            "The predictions of each test case are [1108.22641927 4475.20011115 4058.86569636 ... 4963.09438205 -218.12499398\n",
            "  584.88159299]\n",
            "The cost after 500 itterations is: 58253.886125496676\n"
          ]
        }
      ]
    },
    {
      "cell_type": "code",
      "source": [
        "np.savetxt('Lineartestresults.csv', preft, delimiter=',')"
      ],
      "metadata": {
        "id": "aE3xVKE9EneF"
      },
      "execution_count": 22,
      "outputs": []
    },
    {
      "cell_type": "code",
      "source": [
        "r2=r2_score(Y_cv, preft)\n"
      ],
      "metadata": {
        "id": "f-KWRqArSo7u"
      },
      "execution_count": 34,
      "outputs": []
    },
    {
      "cell_type": "code",
      "source": [
        "mse = np.mean((Y_cv - preft) ** 2)\n",
        "print(f\"The cost after {ittr} itterations is: {cos}\")\n",
        "print(f\"The Mean Squared Error of the Algo is: {mse}\")\n",
        "print(f\"The R2 score of the Algo is: {r2}\")"
      ],
      "metadata": {
        "colab": {
          "base_uri": "https://localhost:8080/"
        },
        "id": "ph09dhqWICco",
        "outputId": "6353ac2a-5ca2-46b4-ab39-65cf4ee465f3"
      },
      "execution_count": 36,
      "outputs": [
        {
          "output_type": "stream",
          "name": "stdout",
          "text": [
            "The cost after 500 itterations is: 58284.405964724596\n",
            "The Mean Squared Error of the Algo is: 116714.33051249651\n",
            "The R2 score of the Algo is: 0.9748054862401395\n"
          ]
        }
      ]
    },
    {
      "cell_type": "code",
      "source": [],
      "metadata": {
        "id": "n76AIDi4N5aQ"
      },
      "execution_count": null,
      "outputs": []
    }
  ]
}