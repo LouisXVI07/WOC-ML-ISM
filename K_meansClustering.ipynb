{
  "nbformat": 4,
  "nbformat_minor": 0,
  "metadata": {
    "colab": {
      "provenance": []
    },
    "kernelspec": {
      "name": "python3",
      "display_name": "Python 3"
    },
    "language_info": {
      "name": "python"
    }
  },
  "cells": [
    {
      "cell_type": "code",
      "execution_count": null,
      "metadata": {
        "id": "Hj_bHuF9Z9bL"
      },
      "outputs": [],
      "source": [
        "import numpy as np\n",
        "import pandas as pd\n",
        "import matplotlib.pyplot as plt"
      ]
    },
    {
      "cell_type": "code",
      "source": [
        "def cost (iniclus, clus, X):\n",
        "  m, n= X.shape\n",
        "  j=0\n",
        "  for i in range (m):\n",
        "    dist=np.sum((X[i]-iniclus[int(clus[i])])**2)\n",
        "    j=j+dist\n",
        "  return j/m"
      ],
      "metadata": {
        "id": "nTBjIdx5eJ74"
      },
      "execution_count": null,
      "outputs": []
    },
    {
      "cell_type": "code",
      "source": [
        "def scaling(X):\n",
        "  m, n=X.shape\n",
        "  for j in range(n):\n",
        "    X[:,j]=(X[:,j]-np.mean(X[:,j]))/np.std(X[:,j])\n",
        "  return X"
      ],
      "metadata": {
        "id": "oTEPK52wl3uJ"
      },
      "execution_count": null,
      "outputs": []
    },
    {
      "cell_type": "code",
      "source": [
        "\n",
        "\n",
        "def Kmeans(X, k, ittr):\n",
        "    m, n = X.shape\n",
        "    np.random.seed(42)\n",
        "    centroids = X[np.random.choice(m, k, replace=False)]\n",
        "    clusters = np.zeros(m)\n",
        "\n",
        "    for i in range(ittr):\n",
        "\n",
        "        for j in range(m):\n",
        "            distances = np.sum((X[j] - centroids) ** 2, axis=1)\n",
        "            clusters[j] = np.argmin(distances)\n",
        "\n",
        "\n",
        "        new_centroids = np.array([X[clusters == t].mean(axis=0) if len(X[clusters == t]) > 0 else centroids[t] for t in range(k)])\n",
        "\n",
        "        if np.allclose(centroids, new_centroids, atol=1e-4):\n",
        "            print(f\"Convergence reached at iteration {i}\")\n",
        "            break\n",
        "\n",
        "        centroids = new_centroids\n",
        "\n",
        "\n",
        "        if i % 10 == 0:\n",
        "            cost = np.mean([np.sum((X[clusters == t] - centroids[t]) ** 2) for t in range(k)])\n",
        "            print(f\"Cost after {i} iterations: {cost}\")\n",
        "\n",
        "    print(f\"Final centroids:\\n{centroids}\")\n",
        "    print(f\"Cluster assignments:\\n{clusters + 1}\")\n"
      ],
      "metadata": {
        "id": "CCXI2JiRaS4j"
      },
      "execution_count": null,
      "outputs": []
    },
    {
      "cell_type": "markdown",
      "source": [],
      "metadata": {
        "id": "43qQzJZuP9w8"
      }
    },
    {
      "cell_type": "code",
      "source": [
        "'''X=np.array([[1, 2, 3], [4, 5, 6], [7 , 8,9], [10, 11, 12]])\n",
        "print(Kmeans (X, 2, 10))'''"
      ],
      "metadata": {
        "colab": {
          "base_uri": "https://localhost:8080/",
          "height": 36
        },
        "id": "JPZspKzTbnS4",
        "outputId": "79cd14d4-876d-4bb4-e510-9488a62ac88d"
      },
      "execution_count": null,
      "outputs": [
        {
          "output_type": "execute_result",
          "data": {
            "text/plain": [
              "'X=np.array([[1, 2, 3], [4, 5, 6], [7 , 8,9], [10, 11, 12]])\\nprint(Kmeans (X, 2, 10))'"
            ],
            "application/vnd.google.colaboratory.intrinsic+json": {
              "type": "string"
            }
          },
          "metadata": {},
          "execution_count": 5
        }
      ]
    },
    {
      "cell_type": "code",
      "source": [
        "data=np.array(pd.read_csv(\"unsupervised_data.csv\"))\n",
        "a, b=np.shape(data)\n"
      ],
      "metadata": {
        "id": "75U6RjIYcEgr"
      },
      "execution_count": null,
      "outputs": []
    },
    {
      "cell_type": "code",
      "source": [
        "X=np.zeros([a,b-1])\n",
        "\n",
        "\n",
        "for i in range (a):\n",
        "  X[i]=data[i, 1:b]\n"
      ],
      "metadata": {
        "id": "ZwGCggbNilCd"
      },
      "execution_count": null,
      "outputs": []
    },
    {
      "cell_type": "code",
      "source": [
        "print(X)"
      ],
      "metadata": {
        "colab": {
          "base_uri": "https://localhost:8080/"
        },
        "id": "9vpHVgPTjAZi",
        "outputId": "11f42cb5-5edc-461e-92cb-3e357da0fa65"
      },
      "execution_count": null,
      "outputs": [
        {
          "output_type": "stream",
          "name": "stdout",
          "text": [
            "[[-21.90459052 -22.65909077  12.80599532 -46.63193454 -34.34708058\n",
            "  -21.98973763]\n",
            " [-28.6623852   68.7570811   31.76182149   3.98225896 -62.87686557\n",
            "  -61.83856263]\n",
            " [-62.55120406  60.90923463   8.11291761  24.1100498  -64.37233589\n",
            "   70.68194042]\n",
            " ...\n",
            " [-10.5193655   51.35470206 -45.12963703   1.94184293  13.16236957\n",
            "  -77.77000929]\n",
            " [ 47.12231456 -47.27290614 -47.18462792 -52.90839123 -29.80429118\n",
            "    2.04282004]\n",
            " [-12.18331877  52.25702955 -42.01543172  14.20654525   0.70609201\n",
            "  -77.29727207]]\n"
          ]
        }
      ]
    },
    {
      "cell_type": "code",
      "source": [
        "X=scaling(X)\n",
        "print(X)"
      ],
      "metadata": {
        "colab": {
          "base_uri": "https://localhost:8080/"
        },
        "id": "Qn8LK_rDpDZJ",
        "outputId": "6989be5c-21d6-4be8-e6a3-9986adc7acab"
      },
      "execution_count": null,
      "outputs": [
        {
          "output_type": "stream",
          "name": "stdout",
          "text": [
            "[[-0.35139799 -0.37542604  0.54841073 -1.14716136 -0.24047117 -0.3996431 ]\n",
            " [-0.54362329  1.35051141  1.01882703  0.07881007 -0.84592181 -1.23656397]\n",
            " [-1.5075899   1.20234405  0.43194521  0.56634321 -0.87765824  1.54668434]\n",
            " ...\n",
            " [-0.02754555  1.02195447 -0.88934594  0.02938734  0.76776029 -1.57116255]\n",
            " [ 1.61207061 -0.84013491 -0.94034352 -1.299189   -0.14406544  0.10509823]\n",
            " [-0.07487666  1.03899041 -0.81206242  0.32646161  0.50341686 -1.56123394]]\n"
          ]
        }
      ]
    },
    {
      "cell_type": "code",
      "source": [
        "Kmeans(X, 10, 100)"
      ],
      "metadata": {
        "colab": {
          "base_uri": "https://localhost:8080/"
        },
        "id": "-FFD7ClkjJPH",
        "outputId": "11bf7fab-5007-4325-b625-bf01861368aa"
      },
      "execution_count": null,
      "outputs": [
        {
          "output_type": "stream",
          "name": "stdout",
          "text": [
            "Cost after 0 iterations: 2775.171507213574\n",
            "Cost after 10 iterations: 595.9587090265013\n",
            "Cost after 20 iterations: 595.658526627734\n",
            "Convergence reached at iteration 28\n",
            "Final centroids:\n",
            "[[-1.5042706   1.11924844  0.62301111  0.75432022 -1.07425164  1.57869635]\n",
            " [ 1.88567746 -0.78296488 -0.99051721 -1.18530071 -0.15015331  0.14007246]\n",
            " [-0.27692132  1.36288055  1.11651109  0.35123203 -0.63511334 -1.05267776]\n",
            " [ 0.07916374  0.88244909 -0.91566407  0.03125732  0.78937109 -1.40254636]\n",
            " [-1.81952201  1.1158565   0.61452537  0.76273566 -1.07824661  1.58286284]\n",
            " [ 1.56754729 -0.78060839 -0.98003856 -1.21530575 -0.1486838   0.14004613]\n",
            " [-0.4261687  -1.11346628  0.92996938 -0.2259948  -0.74785305  0.04860984]\n",
            " [-0.74141851 -1.11813207  0.93865075 -0.25356057 -0.75148831  0.05230724]\n",
            " [-0.02341114 -0.55636445  0.65967335 -1.36000115 -0.18900128 -0.37172409]\n",
            " [ 0.74299158 -0.90934863 -1.42864777  1.65898792  2.01039933  1.05553676]]\n",
            "Cluster assignments:\n",
            "[9. 3. 1. ... 4. 6. 4.]\n"
          ]
        }
      ]
    },
    {
      "cell_type": "code",
      "source": [],
      "metadata": {
        "id": "eSwWPSs_pMpm"
      },
      "execution_count": null,
      "outputs": []
    }
  ]
}