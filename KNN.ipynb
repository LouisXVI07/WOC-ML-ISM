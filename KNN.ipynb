{
  "nbformat": 4,
  "nbformat_minor": 0,
  "metadata": {
    "colab": {
      "provenance": []
    },
    "kernelspec": {
      "name": "python3",
      "display_name": "Python 3"
    },
    "language_info": {
      "name": "python"
    }
  },
  "cells": [
    {
      "cell_type": "code",
      "execution_count": 1,
      "metadata": {
        "id": "4Lk01nwYxng5"
      },
      "outputs": [],
      "source": [
        "import numpy as np\n",
        "import pandas as pd"
      ]
    },
    {
      "cell_type": "code",
      "source": [
        "def dist(X, X_test):\n",
        "  return np.sqrt(sum((X-X_test)**2))"
      ],
      "metadata": {
        "id": "4Av3Nrvg1Y1D"
      },
      "execution_count": 2,
      "outputs": []
    },
    {
      "cell_type": "code",
      "source": [
        "def KNN(X,Y, k, X_test):\n",
        "  m,n=X.shape\n",
        "  a, b= X_test.shape\n",
        "  Y_pred=np.zeros(a)\n",
        "\n",
        "  dist_arr=np.zeros(m)\n",
        "  for j in range(a):\n",
        "    for i in range(m):\n",
        "      dist_arr[i]=dist(X[i],X_test[j])\n",
        "    temp=np.sort(dist_arr)\n",
        "    sel=np.zeros(k)\n",
        "    for t in range(k):\n",
        "      sel[t]=np.where(dist_arr==temp[t])[0][0]\n",
        "    label_sel=np.zeros(k)\n",
        "    for q in range (k):\n",
        "      label_sel[q]=Y[int(sel[q])]\n",
        "\n",
        "    label_sel=label_sel.astype(int)\n",
        "    Y_pred[j]=np.bincount(label_sel).argmax()\n",
        "  return Y_pred"
      ],
      "metadata": {
        "id": "ZKxZFjzV1CNV"
      },
      "execution_count": 3,
      "outputs": []
    },
    {
      "cell_type": "code",
      "source": [
        "train=np.array(pd.read_csv(\"multi_classification_train.csv\"))\n",
        "test=np.array(pd.read_csv(\"multi_classification_test.csv\"))"
      ],
      "metadata": {
        "id": "ene4wSyJ6cO1"
      },
      "execution_count": 4,
      "outputs": []
    },
    {
      "cell_type": "code",
      "source": [
        "a, b= train.shape\n",
        "a1, b1= test.shape"
      ],
      "metadata": {
        "id": "kAJGT-Y09gOU"
      },
      "execution_count": 5,
      "outputs": []
    },
    {
      "cell_type": "code",
      "source": [
        "\n",
        "X_train=np.zeros([a,b-2])\n",
        "Y_train=np.zeros((a,))\n",
        "\n",
        "for i in range (a):\n",
        "  X_train[i]=train[i, 1:b-1]\n",
        "  Y_train[i]=train[i,b-1]"
      ],
      "metadata": {
        "id": "rFjvBXxs9k8y"
      },
      "execution_count": 6,
      "outputs": []
    },
    {
      "cell_type": "code",
      "source": [
        "\n",
        "X_test=np.zeros([a1,b1-1])\n",
        "for i in range (a1):\n",
        "  X_test[i]=test[i, 1:b1]"
      ],
      "metadata": {
        "id": "aBMBaOIa9oxM"
      },
      "execution_count": 7,
      "outputs": []
    },
    {
      "cell_type": "code",
      "source": [
        "k=int(np.sqrt(a))\n",
        "if (k%2==0):\n",
        "  k+=1\n",
        "Y_pred=KNN(X_train, Y_train, k, X_test)    #for sir"
      ],
      "metadata": {
        "id": "_YhKCi0g9uDu",
        "colab": {
          "base_uri": "https://localhost:8080/",
          "height": 269
        },
        "outputId": "6dda40cc-625a-4040-9570-b88f8be08fd5"
      },
      "execution_count": 8,
      "outputs": [
        {
          "output_type": "error",
          "ename": "KeyboardInterrupt",
          "evalue": "",
          "traceback": [
            "\u001b[0;31m---------------------------------------------------------------------------\u001b[0m",
            "\u001b[0;31mKeyboardInterrupt\u001b[0m                         Traceback (most recent call last)",
            "\u001b[0;32m<ipython-input-8-a5ed426c33de>\u001b[0m in \u001b[0;36m<cell line: 4>\u001b[0;34m()\u001b[0m\n\u001b[1;32m      2\u001b[0m \u001b[0;32mif\u001b[0m \u001b[0;34m(\u001b[0m\u001b[0mk\u001b[0m\u001b[0;34m%\u001b[0m\u001b[0;36m2\u001b[0m\u001b[0;34m==\u001b[0m\u001b[0;36m0\u001b[0m\u001b[0;34m)\u001b[0m\u001b[0;34m:\u001b[0m\u001b[0;34m\u001b[0m\u001b[0;34m\u001b[0m\u001b[0m\n\u001b[1;32m      3\u001b[0m   \u001b[0mk\u001b[0m\u001b[0;34m+=\u001b[0m\u001b[0;36m1\u001b[0m\u001b[0;34m\u001b[0m\u001b[0;34m\u001b[0m\u001b[0m\n\u001b[0;32m----> 4\u001b[0;31m \u001b[0mY_pred\u001b[0m\u001b[0;34m=\u001b[0m\u001b[0mKNN\u001b[0m\u001b[0;34m(\u001b[0m\u001b[0mX_train\u001b[0m\u001b[0;34m,\u001b[0m \u001b[0mY_train\u001b[0m\u001b[0;34m,\u001b[0m \u001b[0mk\u001b[0m\u001b[0;34m,\u001b[0m \u001b[0mX_test\u001b[0m\u001b[0;34m)\u001b[0m    \u001b[0;31m#for sir\u001b[0m\u001b[0;34m\u001b[0m\u001b[0;34m\u001b[0m\u001b[0m\n\u001b[0m",
            "\u001b[0;32m<ipython-input-3-e226399adeab>\u001b[0m in \u001b[0;36mKNN\u001b[0;34m(X, Y, k, X_test)\u001b[0m\n\u001b[1;32m      7\u001b[0m   \u001b[0;32mfor\u001b[0m \u001b[0mj\u001b[0m \u001b[0;32min\u001b[0m \u001b[0mrange\u001b[0m\u001b[0;34m(\u001b[0m\u001b[0ma\u001b[0m\u001b[0;34m)\u001b[0m\u001b[0;34m:\u001b[0m\u001b[0;34m\u001b[0m\u001b[0;34m\u001b[0m\u001b[0m\n\u001b[1;32m      8\u001b[0m     \u001b[0;32mfor\u001b[0m \u001b[0mi\u001b[0m \u001b[0;32min\u001b[0m \u001b[0mrange\u001b[0m\u001b[0;34m(\u001b[0m\u001b[0mm\u001b[0m\u001b[0;34m)\u001b[0m\u001b[0;34m:\u001b[0m\u001b[0;34m\u001b[0m\u001b[0;34m\u001b[0m\u001b[0m\n\u001b[0;32m----> 9\u001b[0;31m       \u001b[0mdist_arr\u001b[0m\u001b[0;34m[\u001b[0m\u001b[0mi\u001b[0m\u001b[0;34m]\u001b[0m\u001b[0;34m=\u001b[0m\u001b[0mdist\u001b[0m\u001b[0;34m(\u001b[0m\u001b[0mX\u001b[0m\u001b[0;34m[\u001b[0m\u001b[0mi\u001b[0m\u001b[0;34m]\u001b[0m\u001b[0;34m,\u001b[0m\u001b[0mX_test\u001b[0m\u001b[0;34m[\u001b[0m\u001b[0mj\u001b[0m\u001b[0;34m]\u001b[0m\u001b[0;34m)\u001b[0m\u001b[0;34m\u001b[0m\u001b[0;34m\u001b[0m\u001b[0m\n\u001b[0m\u001b[1;32m     10\u001b[0m     \u001b[0mtemp\u001b[0m\u001b[0;34m=\u001b[0m\u001b[0mnp\u001b[0m\u001b[0;34m.\u001b[0m\u001b[0msort\u001b[0m\u001b[0;34m(\u001b[0m\u001b[0mdist_arr\u001b[0m\u001b[0;34m)\u001b[0m\u001b[0;34m\u001b[0m\u001b[0;34m\u001b[0m\u001b[0m\n\u001b[1;32m     11\u001b[0m     \u001b[0msel\u001b[0m\u001b[0;34m=\u001b[0m\u001b[0mnp\u001b[0m\u001b[0;34m.\u001b[0m\u001b[0mzeros\u001b[0m\u001b[0;34m(\u001b[0m\u001b[0mk\u001b[0m\u001b[0;34m)\u001b[0m\u001b[0;34m\u001b[0m\u001b[0;34m\u001b[0m\u001b[0m\n",
            "\u001b[0;32m<ipython-input-2-1e9bef21f84e>\u001b[0m in \u001b[0;36mdist\u001b[0;34m(X, X_test)\u001b[0m\n\u001b[1;32m      1\u001b[0m \u001b[0;32mdef\u001b[0m \u001b[0mdist\u001b[0m\u001b[0;34m(\u001b[0m\u001b[0mX\u001b[0m\u001b[0;34m,\u001b[0m \u001b[0mX_test\u001b[0m\u001b[0;34m)\u001b[0m\u001b[0;34m:\u001b[0m\u001b[0;34m\u001b[0m\u001b[0;34m\u001b[0m\u001b[0m\n\u001b[0;32m----> 2\u001b[0;31m   \u001b[0;32mreturn\u001b[0m \u001b[0mnp\u001b[0m\u001b[0;34m.\u001b[0m\u001b[0msqrt\u001b[0m\u001b[0;34m(\u001b[0m\u001b[0msum\u001b[0m\u001b[0;34m(\u001b[0m\u001b[0;34m(\u001b[0m\u001b[0mX\u001b[0m\u001b[0;34m-\u001b[0m\u001b[0mX_test\u001b[0m\u001b[0;34m)\u001b[0m\u001b[0;34m**\u001b[0m\u001b[0;36m2\u001b[0m\u001b[0;34m)\u001b[0m\u001b[0;34m)\u001b[0m\u001b[0;34m\u001b[0m\u001b[0;34m\u001b[0m\u001b[0m\n\u001b[0m",
            "\u001b[0;31mKeyboardInterrupt\u001b[0m: "
          ]
        }
      ]
    },
    {
      "cell_type": "code",
      "source": [
        "print(Y_pred)"
      ],
      "metadata": {
        "colab": {
          "base_uri": "https://localhost:8080/"
        },
        "id": "VjF6BfVh-AQ3",
        "outputId": "e321e28c-eb70-4d55-d1ce-8c92a86efbb1"
      },
      "execution_count": null,
      "outputs": [
        {
          "output_type": "stream",
          "name": "stdout",
          "text": [
            "[1. 2. 2. 2. 2. 1. 2. 3. 1. 2. 2. 2. 2. 3. 4. 1. 1. 3. 2. 0. 2. 0. 4. 2.\n",
            " 4. 1. 2. 2. 2. 3. 0. 2. 3. 1. 1. 2. 4. 2. 0. 1. 2. 2. 3. 2. 0. 2. 3. 2.\n",
            " 1. 2. 2. 1. 1. 2. 2. 1. 4. 2. 1. 2. 2. 3. 2. 2. 4. 3. 2. 0. 2. 2. 2. 2.\n",
            " 1. 3. 2. 4. 1. 1. 4. 1. 1. 3. 1. 2. 2. 2. 3. 2. 1. 2. 3. 2. 1. 1. 4. 2.\n",
            " 3. 3. 1. 2. 2. 0. 1. 2. 1. 1. 3. 2. 0. 3. 2. 2. 1. 2. 2. 2. 2. 1. 2. 2.\n",
            " 2. 2. 3. 0. 0. 1. 4. 2. 2. 3. 0. 4. 1. 2. 2. 3. 0. 2. 2. 2. 2. 2. 1. 2.\n",
            " 3. 1. 3. 2. 1. 3. 1. 1. 1. 2. 2. 2. 1. 1. 4. 0. 1. 0. 1. 3. 0. 2. 3. 2.\n",
            " 2. 2. 2. 1. 2. 2. 3. 0. 2. 2. 1. 2. 1. 1. 1. 3. 3. 4. 2. 2. 2. 0. 2. 1.\n",
            " 4. 3. 0. 4. 2. 2. 2. 2. 2. 1. 0. 3. 1. 0. 1. 3. 2. 1. 2. 1. 2. 2. 3. 2.\n",
            " 2. 2. 2. 2. 3. 4. 1. 1. 3. 3. 2. 2. 3. 4. 3. 3. 3. 1. 3. 2. 1. 1. 1. 2.\n",
            " 2. 4. 3. 3. 1. 0. 2. 1. 2. 2. 4. 1. 1. 3. 1. 2. 3. 2. 3. 3. 1. 3. 1. 2.\n",
            " 2. 1. 2. 1. 1. 2. 2. 2. 2. 2. 1. 3. 3. 2. 0. 2. 1. 2. 2. 1. 2. 2. 1. 2.\n",
            " 2. 4. 0. 3. 4. 2. 1. 2. 4. 3. 1. 2. 2. 2. 1. 0. 3. 2. 1. 3. 1. 1. 1. 2.\n",
            " 3. 2. 2. 0. 2. 3. 2. 4. 2. 2. 1. 4. 1. 1. 2. 1. 3. 3. 1. 2. 2. 2. 1. 2.\n",
            " 1. 3. 2. 1. 0. 2. 2. 4. 4. 3. 4. 3. 3. 2. 2. 2. 2. 0. 2. 3. 2. 3. 2. 2.\n",
            " 2. 1. 4. 1. 2. 3. 2. 2. 2. 1. 3. 3. 2. 0. 2. 2. 3. 0. 3. 3. 2. 1. 1. 3.\n",
            " 1. 3. 2. 1. 3. 2. 2. 4. 4. 3. 2. 2. 1. 3. 3. 3. 1. 3. 2. 3. 1. 2. 3. 2.\n",
            " 2. 3. 1. 2. 3. 2. 2. 2. 2. 2. 3. 2. 2. 1. 2. 1. 1. 3. 3. 1. 2. 3. 2. 2.\n",
            " 4. 2. 2. 2. 2. 2. 3. 3. 1. 2. 1. 2. 2. 1. 1. 3. 2. 2. 4. 2. 2. 3. 2. 2.\n",
            " 1. 1. 2. 2. 1. 1. 2. 1. 2. 2. 3. 4. 2. 2. 3. 1. 1. 0. 0. 2. 2. 0. 2. 3.]\n"
          ]
        }
      ]
    },
    {
      "cell_type": "code",
      "source": [
        "np.savetxt('multidata(with KNN).csv', Y_pred, delimiter=',')"
      ],
      "metadata": {
        "id": "iJQ6lmmEJqg5"
      },
      "execution_count": null,
      "outputs": []
    },
    {
      "cell_type": "code",
      "source": [
        "#for sir\n",
        "temp=np.sum(Y_pred==Y_train)\n",
        "accu=temp/a"
      ],
      "metadata": {
        "id": "EdWjBLMSEGyn"
      },
      "execution_count": null,
      "outputs": []
    },
    {
      "cell_type": "code",
      "source": [
        "print (accu)"
      ],
      "metadata": {
        "id": "lLz8Hzi4FlH9",
        "outputId": "45baf821-abca-49ea-b757-c291333ce291",
        "colab": {
          "base_uri": "https://localhost:8080/"
        }
      },
      "execution_count": null,
      "outputs": [
        {
          "output_type": "stream",
          "name": "stdout",
          "text": [
            "0.8541666666666666\n"
          ]
        }
      ]
    }
  ]
}